{
 "cells": [
  {
   "cell_type": "code",
   "execution_count": 2,
   "metadata": {},
   "outputs": [
    {
     "data": {
      "application/vnd.jupyter.widget-view+json": {
       "model_id": "908334618e884e78b883bb8f280b1fe2",
       "version_major": 2,
       "version_minor": 0
      },
      "text/plain": [
       "VBox()"
      ]
     },
     "metadata": {},
     "output_type": "display_data"
    },
    {
     "name": "stdout",
     "output_type": "stream",
     "text": [
      "Starting Spark application\n"
     ]
    },
    {
     "data": {
      "text/html": [
       "<table>\n",
       "<tr><th>ID</th><th>YARN Application ID</th><th>Kind</th><th>State</th><th>Spark UI</th><th>Driver log</th><th>Current session?</th></tr><tr><td>33</td><td>application_1614556309029_0034</td><td>pyspark</td><td>idle</td><td><a target=\"_blank\" href=\"http://ip-172-31-7-2.us-west-1.compute.internal:20888/proxy/application_1614556309029_0034/\">Link</a></td><td><a target=\"_blank\" href=\"http://ip-172-31-8-153.us-west-1.compute.internal:8042/node/containerlogs/container_1614556309029_0034_01_000001/livy\">Link</a></td><td>✔</td></tr></table>"
      ],
      "text/plain": [
       "<IPython.core.display.HTML object>"
      ]
     },
     "metadata": {},
     "output_type": "display_data"
    },
    {
     "data": {
      "application/vnd.jupyter.widget-view+json": {
       "model_id": "",
       "version_major": 2,
       "version_minor": 0
      },
      "text/plain": [
       "FloatProgress(value=0.0, bar_style='info', description='Progress:', layout=Layout(height='25px', width='50%'),…"
      ]
     },
     "metadata": {},
     "output_type": "display_data"
    },
    {
     "name": "stdout",
     "output_type": "stream",
     "text": [
      "SparkSession available as 'spark'.\n"
     ]
    },
    {
     "data": {
      "application/vnd.jupyter.widget-view+json": {
       "model_id": "",
       "version_major": 2,
       "version_minor": 0
      },
      "text/plain": [
       "FloatProgress(value=0.0, bar_style='info', description='Progress:', layout=Layout(height='25px', width='50%'),…"
      ]
     },
     "metadata": {},
     "output_type": "display_data"
    }
   ],
   "source": [
    "from pyspark.sql import SparkSession\n",
    "from pyspark.sql import Window\n",
    "from pyspark.sql.types import *\n",
    "from pyspark.sql.functions import *\n",
    "from pyspark.ml.feature import StringIndexer\n",
    "from pyspark.ml.feature import OneHotEncoder\n",
    "from pyspark.ml.feature import StandardScaler\n",
    "from pyspark.ml.feature import VectorAssembler\n",
    "from pyspark.ml.classification import LogisticRegression\n",
    "from pyspark.ml.evaluation import BinaryClassificationEvaluator\n",
    "from pyspark.ml.tuning import CrossValidator\n",
    "from pyspark.ml.tuning import ParamGridBuilder\n",
    "import json"
   ]
  },
  {
   "cell_type": "code",
   "execution_count": 1,
   "metadata": {},
   "outputs": [
    {
     "data": {
      "text/html": [
       "Current session configs: <tt>{'executorMemory': '10000M', 'executorCores': 4, 'kind': 'pyspark'}</tt><br>"
      ],
      "text/plain": [
       "<IPython.core.display.HTML object>"
      ]
     },
     "metadata": {},
     "output_type": "display_data"
    },
    {
     "data": {
      "text/html": [
       "<table>\n",
       "<tr><th>ID</th><th>YARN Application ID</th><th>Kind</th><th>State</th><th>Spark UI</th><th>Driver log</th><th>Current session?</th></tr><tr><td>35</td><td>application_1614556309029_0036</td><td>pyspark</td><td>idle</td><td><a target=\"_blank\" href=\"http://ip-172-31-7-2.us-west-1.compute.internal:20888/proxy/application_1614556309029_0036/\">Link</a></td><td><a target=\"_blank\" href=\"http://ip-172-31-4-89.us-west-1.compute.internal:8042/node/containerlogs/container_1614556309029_0036_01_000001/livy\">Link</a></td><td></td></tr></table>"
      ],
      "text/plain": [
       "<IPython.core.display.HTML object>"
      ]
     },
     "metadata": {},
     "output_type": "display_data"
    }
   ],
   "source": [
    "%%configure -f\n",
    "{\"executorMemory\": \"10000M\", \"executorCores\": 4}"
   ]
  },
  {
   "cell_type": "code",
   "execution_count": 4,
   "metadata": {},
   "outputs": [
    {
     "data": {
      "application/vnd.jupyter.widget-view+json": {
       "model_id": "77b87f2974644c389d4080e1a50cc070",
       "version_major": 2,
       "version_minor": 0
      },
      "text/plain": [
       "VBox()"
      ]
     },
     "metadata": {},
     "output_type": "display_data"
    },
    {
     "data": {
      "application/vnd.jupyter.widget-view+json": {
       "model_id": "",
       "version_major": 2,
       "version_minor": 0
      },
      "text/plain": [
       "FloatProgress(value=0.0, bar_style='info', description='Progress:', layout=Layout(height='25px', width='50%'),…"
      ]
     },
     "metadata": {},
     "output_type": "display_data"
    }
   ],
   "source": [
    "from pyspark.sql import SparkSession\n",
    "from pyspark.sql.types import *\n",
    "from pyspark.sql import Row\n",
    "from pyspark.sql.functions import *\n",
    "\n",
    "ss = SparkSession.builder.getOrCreate()"
   ]
  },
  {
   "cell_type": "code",
   "execution_count": 5,
   "metadata": {},
   "outputs": [
    {
     "data": {
      "application/vnd.jupyter.widget-view+json": {
       "model_id": "5bce7ef952f84e59bfed18de83f81b7f",
       "version_major": 2,
       "version_minor": 0
      },
      "text/plain": [
       "VBox()"
      ]
     },
     "metadata": {},
     "output_type": "display_data"
    },
    {
     "data": {
      "application/vnd.jupyter.widget-view+json": {
       "model_id": "",
       "version_major": 2,
       "version_minor": 0
      },
      "text/plain": [
       "FloatProgress(value=0.0, bar_style='info', description='Progress:', layout=Layout(height='25px', width='50%'),…"
      ]
     },
     "metadata": {},
     "output_type": "display_data"
    }
   ],
   "source": [
    "sc = ss.sparkContext.getOrCreate()"
   ]
  },
  {
   "cell_type": "markdown",
   "metadata": {},
   "source": [
    "## Analytics Goals"
   ]
  },
  {
   "cell_type": "markdown",
   "metadata": {},
   "source": [
    "Will be doing classification analysis of tracks from the Million Songs DataSet by predicting the genre and sentiment of a track_id based on information such as the top tags and how similar it is with other songs. The results of this classification will be compared with the predictions using lyrics to see if there is an improvement or not with using these features. "
   ]
  },
  {
   "cell_type": "markdown",
   "metadata": {},
   "source": [
    "I only used track_ids that have atleast three tags and no none values with similarities. So I just ignored other missing data"
   ]
  },
  {
   "cell_type": "markdown",
   "metadata": {},
   "source": [
    "## Last.Fm Dataset"
   ]
  },
  {
   "cell_type": "markdown",
   "metadata": {},
   "source": [
    "Need this dataset to get information about tags and similarity for each song to other songs. Will be used to predict the song's sentiment and genre and see if it makes accurate predictions depending on that info. "
   ]
  },
  {
   "cell_type": "code",
   "execution_count": 18,
   "metadata": {},
   "outputs": [
    {
     "data": {
      "application/vnd.jupyter.widget-view+json": {
       "model_id": "d7f5ba75062a4ba7897feca3608aa166",
       "version_major": 2,
       "version_minor": 0
      },
      "text/plain": [
       "VBox()"
      ]
     },
     "metadata": {},
     "output_type": "display_data"
    },
    {
     "data": {
      "application/vnd.jupyter.widget-view+json": {
       "model_id": "",
       "version_major": 2,
       "version_minor": 0
      },
      "text/plain": [
       "FloatProgress(value=0.0, bar_style='info', description='Progress:', layout=Layout(height='25px', width='50%'),…"
      ]
     },
     "metadata": {},
     "output_type": "display_data"
    }
   ],
   "source": [
    "def preprocess_fm_for_genre(files_rdd): \n",
    "    files_contents = files_rdd.map(lambda x: x[1]).map(lambda x: json.loads(x))\\\n",
    "                .map(lambda x: (x['track_id'], x['title'], x['artist'], \n",
    "                                sorted(x['tags'], key=lambda y: y[1]), \n",
    "                                sorted(x['similars'], key=lambda y: y[1])))\\\n",
    "                .filter(lambda x: len(x[3]) >= 3).filter(lambda x: len(x[4]) >= 10)\\\n",
    "                .map(lambda x: (x[0], x[1], x[2], x[3][0][0], x[3][1][0], x[3][2][0], x[4][0][0], \n",
    "                               x[4][1][0], x[4][2][0], x[4][3][0], x[4][4][0], x[4][5][0], \n",
    "                               x[4][6][0], x[4][7][0], x[4][8][0], x[4][9][0]))\n",
    "    schema = StructType([\n",
    "    StructField('Track_ID', StringType(), True), \n",
    "    StructField('Title', StringType(), True), \n",
    "    StructField('Artist', StringType(), True), \n",
    "    StructField('Tag_1', StringType(), True),\n",
    "    StructField('Tag_2', StringType(), True), \n",
    "    StructField('Tag_3', StringType(), True), \n",
    "    StructField('Similar_1', StringType(), True), \n",
    "    StructField('Similar_2', StringType(), True), \n",
    "    StructField('Similar_3', StringType(), True), \n",
    "    StructField('Similar_4', StringType(), True), \n",
    "    StructField('Similar_5', StringType(), True), \n",
    "    StructField('Similar_6', StringType(), True), \n",
    "    StructField('Similar_7', StringType(), True), \n",
    "    StructField('Similar_8', StringType(), True), \n",
    "    StructField('Similar_9', StringType(), True), \n",
    "    StructField('Similar_10', StringType(), True)\n",
    "    ])\n",
    "    file_df = ss.createDataFrame(files_contents, schema)\n",
    "    return file_df"
   ]
  },
  {
   "cell_type": "code",
   "execution_count": 19,
   "metadata": {},
   "outputs": [
    {
     "data": {
      "application/vnd.jupyter.widget-view+json": {
       "model_id": "690c33c42abe45bc95b36cbe90432121",
       "version_major": 2,
       "version_minor": 0
      },
      "text/plain": [
       "VBox()"
      ]
     },
     "metadata": {},
     "output_type": "display_data"
    },
    {
     "data": {
      "application/vnd.jupyter.widget-view+json": {
       "model_id": "",
       "version_major": 2,
       "version_minor": 0
      },
      "text/plain": [
       "FloatProgress(value=0.0, bar_style='info', description='Progress:', layout=Layout(height='25px', width='50%'),…"
      ]
     },
     "metadata": {},
     "output_type": "display_data"
    }
   ],
   "source": [
    "import json\n",
    "file_list = [\"Z\"]\n",
    "for f in file_list: \n",
    "    input_train = \"s3://msds694-final-group7/lastfm_train/\" + f + \"/*/*/\"\n",
    "    input_test = \"s3://msds694-final-group7/lastfm_test/\" + f + \"/*/*/\"\n",
    "    \n",
    "    files_rdd_train = sc.wholeTextFiles(input_train)\n",
    "    files_rdd_test = sc.wholeTextFiles(input_test)\n",
    "    \n",
    "    train_df = preprocess_fm_for_genre(files_rdd_train)\n",
    "    test_df = preprocess_fm_for_genre(files_rdd_test)\n",
    "    \n",
    "    output_train_file = \"s3a://msds694-final-group7/lastfm_train_for_genre_clean/\" + f\n",
    "    output_test_file = \"s3a://msds694-final-group7/lastfm_test_for_genre_clean/\" + f\n",
    "    train_df.write.parquet(output_train_file)\n",
    "    test_df.write.parquet(output_test_file)"
   ]
  },
  {
   "cell_type": "code",
   "execution_count": 6,
   "metadata": {},
   "outputs": [
    {
     "data": {
      "application/vnd.jupyter.widget-view+json": {
       "model_id": "9ca9ad9f8263473a890f3a19ff2dc696",
       "version_major": 2,
       "version_minor": 0
      },
      "text/plain": [
       "VBox()"
      ]
     },
     "metadata": {},
     "output_type": "display_data"
    },
    {
     "data": {
      "application/vnd.jupyter.widget-view+json": {
       "model_id": "",
       "version_major": 2,
       "version_minor": 0
      },
      "text/plain": [
       "FloatProgress(value=0.0, bar_style='info', description='Progress:', layout=Layout(height='25px', width='50%'),…"
      ]
     },
     "metadata": {},
     "output_type": "display_data"
    }
   ],
   "source": [
    "train_parquets_path = \"s3a://msds694-final-group7/lastfm_train_for_genre_clean/*\"\n",
    "test_parquets_path = \"s3a://msds694-final-group7/lastfm_test_for_genre_clean/*\"\n",
    "train = ss.read.parquet(train_parquets_path)\n",
    "test = ss.read.parquet(test_parquets_path)"
   ]
  },
  {
   "cell_type": "code",
   "execution_count": 133,
   "metadata": {},
   "outputs": [
    {
     "data": {
      "application/vnd.jupyter.widget-view+json": {
       "model_id": "97d42d2f3b444d2faef77644cd312617",
       "version_major": 2,
       "version_minor": 0
      },
      "text/plain": [
       "VBox()"
      ]
     },
     "metadata": {},
     "output_type": "display_data"
    },
    {
     "data": {
      "application/vnd.jupyter.widget-view+json": {
       "model_id": "",
       "version_major": 2,
       "version_minor": 0
      },
      "text/plain": [
       "FloatProgress(value=0.0, bar_style='info', description='Progress:', layout=Layout(height='25px', width='50%'),…"
      ]
     },
     "metadata": {},
     "output_type": "display_data"
    },
    {
     "name": "stdout",
     "output_type": "stream",
     "text": [
      "+------------------+-----+------+-----+-------+-------+------------------+------------------+------------------+------------------+------------------+------------------+------------------+------------------+------------------+------------------+\n",
      "|          Track_ID|Title|Artist|Tag_1|  Tag_2|  Tag_3|         Similar_1|         Similar_2|         Similar_3|         Similar_4|         Similar_5|         Similar_6|         Similar_7|         Similar_8|         Similar_9|        Similar_10|\n",
      "+------------------+-----+------+-----+-------+-------+------------------+------------------+------------------+------------------+------------------+------------------+------------------+------------------+------------------+------------------+\n",
      "|TRCAAAO128E078E7A9|Games| Big L|  rap|Hip-Hop|classic|TRNYCZP128E07924EE|TRYDRBS128F92FCBB4|TRSOCXU128E0796974|TRDRHVG128F92FAB06|TRWJHHQ128F4215F03|TRJQZWT128F930BD04|TRTFJKQ128F9321D43|TRAYSZT128F423B584|TRXLTEB128F4279D0C|TRMILWY128F429D9F8|\n",
      "+------------------+-----+------+-----+-------+-------+------------------+------------------+------------------+------------------+------------------+------------------+------------------+------------------+------------------+------------------+\n",
      "only showing top 1 row"
     ]
    }
   ],
   "source": [
    "train.show(1)"
   ]
  },
  {
   "cell_type": "code",
   "execution_count": 21,
   "metadata": {},
   "outputs": [
    {
     "data": {
      "application/vnd.jupyter.widget-view+json": {
       "model_id": "e5c46e7262614d2fb728bd3b9b7508ff",
       "version_major": 2,
       "version_minor": 0
      },
      "text/plain": [
       "VBox()"
      ]
     },
     "metadata": {},
     "output_type": "display_data"
    },
    {
     "data": {
      "application/vnd.jupyter.widget-view+json": {
       "model_id": "",
       "version_major": 2,
       "version_minor": 0
      },
      "text/plain": [
       "FloatProgress(value=0.0, bar_style='info', description='Progress:', layout=Layout(height='25px', width='50%'),…"
      ]
     },
     "metadata": {},
     "output_type": "display_data"
    },
    {
     "name": "stderr",
     "output_type": "stream",
     "text": [
      "u'path s3a://msds694-final-group7/lastfm_test_for_genre_clean/All already exists.;'\n",
      "Traceback (most recent call last):\n",
      "  File \"/usr/lib/spark/python/lib/pyspark.zip/pyspark/sql/readwriter.py\", line 843, in parquet\n",
      "    self._jwrite.parquet(path)\n",
      "  File \"/usr/lib/spark/python/lib/py4j-0.10.7-src.zip/py4j/java_gateway.py\", line 1257, in __call__\n",
      "    answer, self.gateway_client, self.target_id, self.name)\n",
      "  File \"/usr/lib/spark/python/lib/pyspark.zip/pyspark/sql/utils.py\", line 69, in deco\n",
      "    raise AnalysisException(s.split(': ', 1)[1], stackTrace)\n",
      "AnalysisException: u'path s3a://msds694-final-group7/lastfm_test_for_genre_clean/All already exists.;'\n",
      "\n"
     ]
    }
   ],
   "source": [
    "train.write.parquet(\"s3a://msds694-final-group7/lastfm_train_for_genre_clean/All\")\n",
    "test.write.parquet(\"s3a://msds694-final-group7/lastfm_test_for_genre_clean/All\")"
   ]
  },
  {
   "cell_type": "code",
   "execution_count": 9,
   "metadata": {},
   "outputs": [
    {
     "data": {
      "application/vnd.jupyter.widget-view+json": {
       "model_id": "7fe929d86af849298a011168a2eafca0",
       "version_major": 2,
       "version_minor": 0
      },
      "text/plain": [
       "VBox()"
      ]
     },
     "metadata": {},
     "output_type": "display_data"
    },
    {
     "data": {
      "application/vnd.jupyter.widget-view+json": {
       "model_id": "",
       "version_major": 2,
       "version_minor": 0
      },
      "text/plain": [
       "FloatProgress(value=0.0, bar_style='info', description='Progress:', layout=Layout(height='25px', width='50%'),…"
      ]
     },
     "metadata": {},
     "output_type": "display_data"
    },
    {
     "name": "stdout",
     "output_type": "stream",
     "text": [
      "+------------------+-----+------+-----+-------+-------+------------------+------------------+------------------+------------------+------------------+------------------+------------------+------------------+------------------+------------------+\n",
      "|          Track_ID|Title|Artist|Tag_1|  Tag_2|  Tag_3|         Similar_1|         Similar_2|         Similar_3|         Similar_4|         Similar_5|         Similar_6|         Similar_7|         Similar_8|         Similar_9|        Similar_10|\n",
      "+------------------+-----+------+-----+-------+-------+------------------+------------------+------------------+------------------+------------------+------------------+------------------+------------------+------------------+------------------+\n",
      "|TRCAAAO128E078E7A9|Games| Big L|  rap|Hip-Hop|classic|TRNYCZP128E07924EE|TRYDRBS128F92FCBB4|TRSOCXU128E0796974|TRDRHVG128F92FAB06|TRWJHHQ128F4215F03|TRJQZWT128F930BD04|TRTFJKQ128F9321D43|TRAYSZT128F423B584|TRXLTEB128F4279D0C|TRMILWY128F429D9F8|\n",
      "+------------------+-----+------+-----+-------+-------+------------------+------------------+------------------+------------------+------------------+------------------+------------------+------------------+------------------+------------------+\n",
      "only showing top 1 row"
     ]
    }
   ],
   "source": [
    "train.show(1)"
   ]
  },
  {
   "cell_type": "markdown",
   "metadata": {},
   "source": [
    "## Genre Labels"
   ]
  },
  {
   "cell_type": "markdown",
   "metadata": {},
   "source": [
    "Get the genre labels for each track id"
   ]
  },
  {
   "cell_type": "code",
   "execution_count": 23,
   "metadata": {},
   "outputs": [
    {
     "data": {
      "application/vnd.jupyter.widget-view+json": {
       "model_id": "c314a8585c9643bf92b869122730b3ff",
       "version_major": 2,
       "version_minor": 0
      },
      "text/plain": [
       "VBox()"
      ]
     },
     "metadata": {},
     "output_type": "display_data"
    },
    {
     "data": {
      "application/vnd.jupyter.widget-view+json": {
       "model_id": "",
       "version_major": 2,
       "version_minor": 0
      },
      "text/plain": [
       "FloatProgress(value=0.0, bar_style='info', description='Progress:', layout=Layout(height='25px', width='50%'),…"
      ]
     },
     "metadata": {},
     "output_type": "display_data"
    },
    {
     "name": "stdout",
     "output_type": "stream",
     "text": [
      "+------------------+--------------+\n",
      "|          track_id|         genre|\n",
      "+------------------+--------------+\n",
      "|TRAAAAK128F9318786|      Pop_Rock|\n",
      "|TRAAAAV128F421A322|      Pop_Rock|\n",
      "|TRAAAAW128F429D538|           Rap|\n",
      "|TRAAABD128F429CF47|      Pop_Rock|\n",
      "|TRAAACV128F423E09E|      Pop_Rock|\n",
      "|TRAAADT12903CCC339|Easy_Listening|\n",
      "|TRAAAED128E0783FAB|         Vocal|\n",
      "|TRAAAEF128F4273421|      Pop_Rock|\n",
      "|TRAAAEM128F93347B9|    Electronic|\n",
      "|TRAAAFD128F92F423A|      Pop_Rock|\n",
      "|TRAAAFP128F931B4E3|           Rap|\n",
      "|TRAAAGR128F425B14B|      Pop_Rock|\n",
      "|TRAAAGW12903CC1049|         Blues|\n",
      "|TRAAAHD128F42635A5|      Pop_Rock|\n",
      "|TRAAAHE12903C9669C|      Pop_Rock|\n",
      "|TRAAAHJ128F931194C|      Pop_Rock|\n",
      "|TRAAAHZ128E0799171|           Rap|\n",
      "|TRAAAIR128F1480971|           RnB|\n",
      "|TRAAAJG128F9308A25|          Folk|\n",
      "|TRAAAMO128F1481E7F|     Religious|\n",
      "+------------------+--------------+\n",
      "only showing top 20 rows"
     ]
    }
   ],
   "source": [
    "genre_rdd = sc.textFile(\"s3://msds694-final-group7/msd-MAGD-genreAssignment.cls\")\n",
    "genre_rdd = genre_rdd.map(lambda x: x.split('\\t')).map(lambda x: (str(x[0]), str(x[1])))\n",
    "schema = StructType([\n",
    "    StructField('track_id', StringType(), True), \n",
    "    StructField('genre', StringType(), True)\n",
    "])\n",
    "genre_df = ss.createDataFrame(genre_rdd, schema)\n",
    "genre_df.show()"
   ]
  },
  {
   "cell_type": "markdown",
   "metadata": {},
   "source": [
    "## Combine last.fm and genre"
   ]
  },
  {
   "cell_type": "markdown",
   "metadata": {},
   "source": [
    "Now put genre information in with the last_fm dataset as a label that will be used in the ml portion"
   ]
  },
  {
   "cell_type": "code",
   "execution_count": 25,
   "metadata": {},
   "outputs": [
    {
     "data": {
      "application/vnd.jupyter.widget-view+json": {
       "model_id": "48fedb23ad0a43bab4594e97b1f463ea",
       "version_major": 2,
       "version_minor": 0
      },
      "text/plain": [
       "VBox()"
      ]
     },
     "metadata": {},
     "output_type": "display_data"
    },
    {
     "data": {
      "application/vnd.jupyter.widget-view+json": {
       "model_id": "",
       "version_major": 2,
       "version_minor": 0
      },
      "text/plain": [
       "FloatProgress(value=0.0, bar_style='info', description='Progress:', layout=Layout(height='25px', width='50%'),…"
      ]
     },
     "metadata": {},
     "output_type": "display_data"
    }
   ],
   "source": [
    "last_fm_predict_genre = train.join(genre_df, on=['Track_ID'])\n",
    "last_fm_predict_genre.write.parquet(\"s3a://msds694-final-group7/lastfm_train_for_genre_clean/All_with_genre\")"
   ]
  },
  {
   "cell_type": "code",
   "execution_count": 26,
   "metadata": {},
   "outputs": [
    {
     "data": {
      "application/vnd.jupyter.widget-view+json": {
       "model_id": "6e4a68f26c4349c5a525720fd06181f1",
       "version_major": 2,
       "version_minor": 0
      },
      "text/plain": [
       "VBox()"
      ]
     },
     "metadata": {},
     "output_type": "display_data"
    },
    {
     "data": {
      "application/vnd.jupyter.widget-view+json": {
       "model_id": "",
       "version_major": 2,
       "version_minor": 0
      },
      "text/plain": [
       "FloatProgress(value=0.0, bar_style='info', description='Progress:', layout=Layout(height='25px', width='50%'),…"
      ]
     },
     "metadata": {},
     "output_type": "display_data"
    }
   ],
   "source": [
    "last_fm_predict_genre = test.join(genre_df, on=['Track_ID'])\n",
    "last_fm_predict_genre.write.parquet(\"s3a://msds694-final-group7/lastfm_test_for_genre_clean/All_with_genre\")"
   ]
  },
  {
   "cell_type": "markdown",
   "metadata": {},
   "source": [
    "## Sentiments"
   ]
  },
  {
   "cell_type": "markdown",
   "metadata": {},
   "source": [
    "Get the sentiments for each track_id"
   ]
  },
  {
   "cell_type": "code",
   "execution_count": 35,
   "metadata": {},
   "outputs": [
    {
     "data": {
      "application/vnd.jupyter.widget-view+json": {
       "model_id": "44ea1b3b5481496d866d087e185afe5e",
       "version_major": 2,
       "version_minor": 0
      },
      "text/plain": [
       "VBox()"
      ]
     },
     "metadata": {},
     "output_type": "display_data"
    },
    {
     "data": {
      "application/vnd.jupyter.widget-view+json": {
       "model_id": "",
       "version_major": 2,
       "version_minor": 0
      },
      "text/plain": [
       "FloatProgress(value=0.0, bar_style='info', description='Progress:', layout=Layout(height='25px', width='50%'),…"
      ]
     },
     "metadata": {},
     "output_type": "display_data"
    },
    {
     "name": "stdout",
     "output_type": "stream",
     "text": [
      "+---------------------+---------------------------------+-------------------------------+------+-----+----+\n",
      "|file                 |artist                           |title                          |lyrics|mood |year|\n",
      "+---------------------+---------------------------------+-------------------------------+------+-----+----+\n",
      "|TRAAAAW128F429D538.h5|Casual                           |I Didn't Mean To               |null  |sad  |1994|\n",
      "|TRAAAEF128F4273421.h5|Adam Ant                         |Something Girls                |null  |happy|1982|\n",
      "|TRAAAFD128F92F423A.h5|Gob                              |Face the Ashes                 |null  |sad  |2007|\n",
      "|TRAABJV128F1460C49.h5|Lionel Richie                    |Tonight Will Be Alright        |null  |happy|1986|\n",
      "|TRAABLR128F423B7E3.h5|Blue Rodeo                       |Floating                       |null  |sad  |1987|\n",
      "|TRAABVM128F92CA9DC.h5|Tesla                            |Caught In A Dream              |null  |happy|2004|\n",
      "|TRAACER128F4290F96.h5|The Dillinger Escape Plan        |Setting Fire to Sleeping Giants|null  |happy|2004|\n",
      "|TRAACFV128F935E50B.h5|SUE THOMPSON                     |James (Hold The Ladder Steady) |null  |happy|1985|\n",
      "|TRAACHN128F1489601.h5|Five Bolt Main                   |Made Like This (Live)          |null  |sad  |2006|\n",
      "|TRAACNS128F14A2DF5.h5|Willie Bobo                      |Spanish Grease                 |null  |sad  |1997|\n",
      "|TRAACQT128F9331780.h5|John Wesley                      |The Emperor Falls              |null  |sad  |1998|\n",
      "|TRAACTB12903CAAF15.h5|Billie Jo Spears                 |It Makes No Difference Now     |null  |sad  |1992|\n",
      "|TRAADLN128F14832E9.h5|The Rolling Stones               |Angie (1993 Digital Remaster)  |null  |sad  |1973|\n",
      "|TRAADNA128F9331246.h5|Stevie Ray Vaughan               |Crossfire                      |null  |happy|1992|\n",
      "|TRAADQX128F422B4CF.h5|Casiotone For The Painfully Alone|Nashville Parthenon            |null  |sad  |2006|\n",
      "|TRAADYB128F92D7E73.h5|Eliane Elias                     |The More I See You             |null  |sad  |2009|\n",
      "|TRAADYI128E078FB38.h5|Lost Boyz                        |Certain Things We Do           |null  |happy|1997|\n",
      "|TRAAEAM128F934B199.h5|The Germs                        |Forming                        |null  |sad  |1977|\n",
      "|TRAAEEH128E0795DFE.h5|Chris Rea                        |Driving Home For Christmas     |null  |happy|1986|\n",
      "|TRAAEUB12903CDD3EA.h5|The Berzerker                    |Deform (live)                  |null  |sad  |2000|\n",
      "+---------------------+---------------------------------+-------------------------------+------+-----+----+\n",
      "only showing top 20 rows"
     ]
    }
   ],
   "source": [
    "mood_song = ss.read.csv('s3://msds694-final-group7/train_lyrics_rem_1000.txt', header=True)\n",
    "mood_song.show(truncate=False)"
   ]
  },
  {
   "cell_type": "markdown",
   "metadata": {},
   "source": [
    "Take out the \".h5\" at the end of the file"
   ]
  },
  {
   "cell_type": "code",
   "execution_count": 49,
   "metadata": {},
   "outputs": [
    {
     "data": {
      "application/vnd.jupyter.widget-view+json": {
       "model_id": "2b17ff35040549c5b51c6687b612b019",
       "version_major": 2,
       "version_minor": 0
      },
      "text/plain": [
       "VBox()"
      ]
     },
     "metadata": {},
     "output_type": "display_data"
    },
    {
     "data": {
      "application/vnd.jupyter.widget-view+json": {
       "model_id": "",
       "version_major": 2,
       "version_minor": 0
      },
      "text/plain": [
       "FloatProgress(value=0.0, bar_style='info', description='Progress:', layout=Layout(height='25px', width='50%'),…"
      ]
     },
     "metadata": {},
     "output_type": "display_data"
    },
    {
     "name": "stdout",
     "output_type": "stream",
     "text": [
      "+--------------------+--------------------+--------------------+------+-----+----+------------------+\n",
      "|                file|              artist|          title_song|lyrics| mood|year|     Track_ID_file|\n",
      "+--------------------+--------------------+--------------------+------+-----+----+------------------+\n",
      "|TRAAAAW128F429D53...|              Casual|    I Didn't Mean To|  null|  sad|1994|TRAAAAW128F429D538|\n",
      "|TRAAAEF128F427342...|            Adam Ant|     Something Girls|  null|happy|1982|TRAAAEF128F4273421|\n",
      "|TRAAAFD128F92F423...|                 Gob|      Face the Ashes|  null|  sad|2007|TRAAAFD128F92F423A|\n",
      "|TRAABJV128F1460C4...|       Lionel Richie|Tonight Will Be A...|  null|happy|1986|TRAABJV128F1460C49|\n",
      "|TRAABLR128F423B7E...|          Blue Rodeo|            Floating|  null|  sad|1987|TRAABLR128F423B7E3|\n",
      "|TRAABVM128F92CA9D...|               Tesla|   Caught In A Dream|  null|happy|2004|TRAABVM128F92CA9DC|\n",
      "|TRAACER128F4290F9...|The Dillinger Esc...|Setting Fire to S...|  null|happy|2004|TRAACER128F4290F96|\n",
      "|TRAACFV128F935E50...|        SUE THOMPSON|James (Hold The L...|  null|happy|1985|TRAACFV128F935E50B|\n",
      "|TRAACHN128F148960...|      Five Bolt Main|Made Like This (L...|  null|  sad|2006|TRAACHN128F1489601|\n",
      "|TRAACNS128F14A2DF...|         Willie Bobo|      Spanish Grease|  null|  sad|1997|TRAACNS128F14A2DF5|\n",
      "|TRAACQT128F933178...|         John Wesley|   The Emperor Falls|  null|  sad|1998|TRAACQT128F9331780|\n",
      "|TRAACTB12903CAAF1...|    Billie Jo Spears|It Makes No Diffe...|  null|  sad|1992|TRAACTB12903CAAF15|\n",
      "|TRAADLN128F14832E...|  The Rolling Stones|Angie (1993 Digit...|  null|  sad|1973|TRAADLN128F14832E9|\n",
      "|TRAADNA128F933124...|  Stevie Ray Vaughan|           Crossfire|  null|happy|1992|TRAADNA128F9331246|\n",
      "|TRAADQX128F422B4C...|Casiotone For The...| Nashville Parthenon|  null|  sad|2006|TRAADQX128F422B4CF|\n",
      "|TRAADYB128F92D7E7...|        Eliane Elias|  The More I See You|  null|  sad|2009|TRAADYB128F92D7E73|\n",
      "|TRAADYI128E078FB3...|           Lost Boyz|Certain Things We Do|  null|happy|1997|TRAADYI128E078FB38|\n",
      "|TRAAEAM128F934B19...|           The Germs|             Forming|  null|  sad|1977|TRAAEAM128F934B199|\n",
      "|TRAAEEH128E0795DF...|           Chris Rea|Driving Home For ...|  null|happy|1986|TRAAEEH128E0795DFE|\n",
      "|TRAAEUB12903CDD3E...|       The Berzerker|       Deform (live)|  null|  sad|2000|TRAAEUB12903CDD3EA|\n",
      "+--------------------+--------------------+--------------------+------+-----+----+------------------+\n",
      "only showing top 20 rows"
     ]
    }
   ],
   "source": [
    "def get_id(x): \n",
    "    return x.split('.')[0]\n",
    "id_g = udf(get_id)\n",
    "mood_song = mood_song.withColumn(\"Track_ID_file\", id_g(\"file\")).withColumnRenamed(\"title\", \"title_song\")\n",
    "mood_song.show()"
   ]
  },
  {
   "cell_type": "markdown",
   "metadata": {},
   "source": [
    "## Combine last.fm with Sentiments"
   ]
  },
  {
   "cell_type": "markdown",
   "metadata": {},
   "source": [
    "Have sentiments as the label to the last_fm information"
   ]
  },
  {
   "cell_type": "code",
   "execution_count": 51,
   "metadata": {},
   "outputs": [
    {
     "data": {
      "application/vnd.jupyter.widget-view+json": {
       "model_id": "f62614b565f846718615e0ca243c57e7",
       "version_major": 2,
       "version_minor": 0
      },
      "text/plain": [
       "VBox()"
      ]
     },
     "metadata": {},
     "output_type": "display_data"
    },
    {
     "data": {
      "application/vnd.jupyter.widget-view+json": {
       "model_id": "",
       "version_major": 2,
       "version_minor": 0
      },
      "text/plain": [
       "FloatProgress(value=0.0, bar_style='info', description='Progress:', layout=Layout(height='25px', width='50%'),…"
      ]
     },
     "metadata": {},
     "output_type": "display_data"
    },
    {
     "name": "stdout",
     "output_type": "stream",
     "text": [
      "+------------------+--------------------+--------------------+--------------------+--------------------+------------------+------------------+------------------+------------------+------------------+------------------+------------------+------------------+------------------+------------------+-----+----+\n",
      "|          Track_ID|               Title|               Tag_1|               Tag_2|               Tag_3|         Similar_1|         Similar_2|         Similar_3|         Similar_4|         Similar_5|         Similar_6|         Similar_7|         Similar_8|         Similar_9|        Similar_10| mood|year|\n",
      "+------------------+--------------------+--------------------+--------------------+--------------------+------------------+------------------+------------------+------------------+------------------+------------------+------------------+------------------+------------------+------------------+-----+----+\n",
      "|TRBAAGQ128F148D17E|         Crackbabies|          baby songs|                  ls|                1993|TRNAABY128E078E759|TRVIOPH128E079894E|TRDGVHL128F428C2A9|TRUHZXL12903CA6D16|TRAQHWF128F146FF11|TRDOGEO128F4278E0C|TRKKMPG128F145D183|TRTVBIA128F14ACF89|TREVWML128F4266829|TRMSUCW128F1460739|  sad|1993|\n",
      "|TRBACUF128F4247F8C|             Call Me|                soul|    ashook69 library|     neo soul groove|TRFELYY128F92E549A|TRQMAQI128F428AC31|TRTZMVX128F429A750|TRRBDVI128F92E413B|TRIRCER128F93396E3|TREGDDI128F9345F0B|TRDAACF128F4257817|TRWKESP128F428AEBB|TREZOKX12903CD2AF1|TRUHPHJ128F1477E62|  sad|1999|\n",
      "|TRBAFJQ128F4259FB5|         Little Bird|        electrifying|            easyrock|      animal kingdom|TROGSCX128F931A944|TRRUBCD128F1484D41|TRJEVUY12903CB0F6F|TRKVBQR12903CBFA40|TRZTRYP128F148D18D|TRVZMQX128F1463780|TRQAYZX128F146377F|TRHYPKE128F426BF3E|TRFEHCX128E07848E4|TRSZXFI12903CB6665|happy|1992|\n",
      "|TRBAGMH128F423A574|         New Meaning|              Grunge|                rock|         alternative|TRTJLSM128F426A9E3|TRYOYFR128F42535E7|TRTUUWS128E079896C|TRWOBBY128E0781A25|TRSXGCU128F932C407|TRJKLRV128F427554E|TRLCZQY128F9355326|TRCXGBO128F14769FD|TRBFRVY128F147B93A|TRBNGNI128E0781A2B|  sad|2008|\n",
      "|TRBAHEH128F9327D39|        Guantanamera|             Hip-Hop|    rhythm and blues|                 LKS|TRWHUPV128F93332D4|TRIXEQC128F932D343|TRAVSZQ128F4241868|TRNXGEK128F425B7E7|TRIHVVG128E078AF57|TRBXLPP128F429B4A3|TRKAFGG128F9336E42|TRFEYKU128E07831D4|TRFUMBG128F92E3BDE|TRLROEV128F92F1826|happy|1997|\n",
      "|TRBAKJC128F93399FB|    Sleepy Man Blues|friendsofthekingo...|          slgdmblues|               blues|TRAEORH128F930CE02|TRYTOUE128F426599B|TRXVOYY128F92D0615|TRQUVTW12903CE73F0|TRZSJSA128F930A7FF|TRNRMEP128F9307172|TRXICJT128F92F7047|TRLPKND128F4249396|TRJVLPX128F42B2555|TRTFYXM128F931F948|  sad|1940|\n",
      "|TRBALEH128E078B419|Night Terrors (Al...|               metal|    industrial metal|            static-x|TRVYZTG128F4262998|TRTYPFY128F427073D|TROMKLO128F145554B|TRXNTIH128F4263A21|TRWEGIR12903CC6446|TRNYLRT128F4263871|TRODXPJ12903CCF52B|TRLGDVB128F4256B20|TRTPHWG128F934C0E0|TRRXUEH12903CC643E|  sad|2005|\n",
      "|TRBALIJ128F14884B5|    Main Street Eyes|                  ip|                rock|            Iggy Pop|TREJNDD128E0784D13|TRAFHLO128F148B363|TRDQVRU128F14672E5|TRSLAVZ128F146B053|TRSHXKL128F92DE895|TRNOCOL128F4233B88|TRXGVSQ128F92F342F|TRCGFTV128F42956CD|TRIPKBK128F145AF87|TRQTLKK128F42A1F24|  sad|1990|\n",
      "|TRBALVT128F145B6CB|          Misty Blue|           soft rock|     original better|             country|TRMVDVU12903C9FB5D|TRFARQI128F92F12CE|TRYDZZC128F9337DF5|TRJQNOJ128F148AD59|TROASZD128F4261996|TRWWEYX128F92D6338|TRAHGVH128F428D112|TRPWQFF128F4260D76|TRYBOED128F4276213|TRKHWUX128F9309274|  sad|1976|\n",
      "|TRBAOTY128F9327A9C|               Still|                Love|                 REM|      jennifer lopez|TRQSSFA128EF342D05|TRWVKHI128F92F28E4|TRWYZNT128F9336AD8|TRPYVCU128F9312784|TRJCEXC12903CABA70|TRSDAQH12903CA98F2|TRVIFKI128F428F4AF|TRTZPVZ128F92F856E|TRFFFFM128F92FF892|TRKRBIE128E07811E0|  sad|2002|\n",
      "|TRBARSX12903D03AE5|        Morning Bird|      lizvelrene2010|   MJ- Soul Strollin|TantoTempo-10 out...|TRMAQQR128F42663BF|TRIQOKM128F9344BEC|TRTJWDH128EF34DE62|TRFBVDD128F931FE47|TRNPPLQ128F145B10F|TREOHSA128F42427DE|TRHDIWI128F9322901|TRXSXJJ128F4264CDD|TRWYHYO128E078D286|TRYVBMQ128F932B6AF|  sad|2010|\n",
      "|TRBAWKB128F931BAEE|         On The Wing| omg this is so good|songs to drink wh...| over 5 minutes long|TRUPCBE128F930523F|TRHMZNJ128F9309AF6|TRJWGRW128F9353C34|TRYJVQY128E07864A8|TRBUJEF12903CB260C|TRPLWNX128F148536D|TRTVNCN128EF343B28|TRVVPEA12903CCCB1F|TRWFPTY128F92DC857|TRGGOSJ128F92DC8AB|happy|2008|\n",
      "|TRBAWQK128F42743A9|            The Door|               blues|   singer-songwriter|        Modern Blues|TRLHTWR128F92F342D|TRWAHEQ128F4287F08|TRHLESD128F4287F15|TRWECRQ128F93332C5|TRZRSFY128F421EE41|TRZSJJH128F429F3D2|TRIBLSA128F9354168|TRFMAXI128F428536A|TRFHWVE128F93347F1|TROMBDB128F4228CF3|  sad|2000|\n",
      "|TRBAZFD12903CB641D|    Hold Up My Heart|              Mellow|                Love|        brooke white|TROYBFH128F1469959|TRGKYFE128E0791D62|TRWGIFL12903CA9916|TRRRETJ128E0791D59|TRZUJRH128E078B2D0|TRUQEAT128E0784A2E|TRAIWAB128F42A45C3|TRBDXBG128F4287F0B|TRLIQVE12903CE81E4|TRSPRVB128E078C94A|happy|2009|\n",
      "|TRBAZRP128F934BC71|          Eoarchaean|   Progressive metal|ambient soundtrac...|              Sludge|TRYCMTF128F933A5DC|TRLNZWY128F930C407|TRRMVMA128F930C445|TRHRZKN128F4286C33|TRCXCKF12903CDB7DB|TRHMYVO128F933E95C|TRSHXTT12903CDB7D7|TRBANAP12903C99A72|TRWRFVM128F92F5A0F|TRQTFLK128F930C44F|  sad|2007|\n",
      "|TRBBAHD128F428E0FE|       Burning Skies|           post-punk|           goth rock|my recommendation...|TRZKABX12903CE6FA7|TRAPTWS128F149DA49|TRNSXTH128E07964FD|TRRQSZR128F424B415|TRXZPUC128F932107A|TRLNDCF128F92EF799|TRPIHTA128F422651A|TRFQAST128F422651F|TRMTTVH128F4283099|TRATNSM128F148BCD1|  sad|1987|\n",
      "|TRBBDAH128F92E625E|  What Would You Do?|      male vocalists|         Bittersweet|             wkqi-fm|TRQPDMO128F92F28B6|TRFKGNH128F428DDDF|TRDAUPM128F42612B3|TRURBJM128F4266130|TRJXMQJ128E0784E03|TRZYYBS128F4276EE2|TRTWWLF128F42ACF88|TRDBXXF128E0780CE0|TRZLFOG128F4260A16|TRCSAQA128F4276823|  sad|2001|\n",
      "|TRBBEGG128F9314BAA|       Heart Trouble|             country|              upbeat|               sassy|TRJLMIR128F4291348|TROBDYB128F9320B1E|TRPPXQV128F424A396|TRQQFYW12903CD4779|TRNCERE128F9320B0A|TRZGHKC128F14604C5|TRLSRWN128F1455E34|TRAHPBE128F93071CF|TROGOPG128F932EED6|TRCUIQW128F149EB16|  sad|1993|\n",
      "|TRBBHPQ128F145A7F8|Down And Out In P...|            Pop-Rock|                 80s|                rock|TRXMQUQ128F9306151|TRXKYMP128F428D47C|TRDVTVF128F427EE25|TRHQCJB128F9314A8F|TRVXSMY128F92F84A7|TRIVRMA128F427C4CC|TRMAGZB128F42BC4D3|TRTNQYK128F427DD95|TRYTMWF128F14992D8|TRMNENP128F14992D7|happy|1987|\n",
      "|TRBBQFV128F4252EFF|              Adrift|       Acoustic Rock|               vocal|                Surf|TRUYPRD128F42AB64B|TRBIPHC128F42AB64E|TRYASXY128F93100EA|TRFPMRT128F428055A|TRGKEAO128EF355684|TRVBHHT12903CB9ECE|TRZUCIS128F92F91B9|TRNQXWK128F428B659|TRCQRRP128EF3432EF|TRXEDHO128F92CC900|  sad|2008|\n",
      "+------------------+--------------------+--------------------+--------------------+--------------------+------------------+------------------+------------------+------------------+------------------+------------------+------------------+------------------+------------------+------------------+-----+----+\n",
      "only showing top 20 rows"
     ]
    }
   ],
   "source": [
    "last_fm_predict_mood = train.join(mood_song, train['Track_ID'] == mood_song['Track_ID_file'])\n",
    "last_fm_predict_mood = last_fm_predict_mood.drop(\"Track_ID_file\", \"artist\", \"lyrics\", \"file\", \"title_song\")\n",
    "last_fm_predict_mood.show()"
   ]
  },
  {
   "cell_type": "code",
   "execution_count": 52,
   "metadata": {},
   "outputs": [
    {
     "data": {
      "application/vnd.jupyter.widget-view+json": {
       "model_id": "0910b1689d3c4dd1addc29e1aadbe488",
       "version_major": 2,
       "version_minor": 0
      },
      "text/plain": [
       "VBox()"
      ]
     },
     "metadata": {},
     "output_type": "display_data"
    },
    {
     "data": {
      "application/vnd.jupyter.widget-view+json": {
       "model_id": "",
       "version_major": 2,
       "version_minor": 0
      },
      "text/plain": [
       "FloatProgress(value=0.0, bar_style='info', description='Progress:', layout=Layout(height='25px', width='50%'),…"
      ]
     },
     "metadata": {},
     "output_type": "display_data"
    }
   ],
   "source": [
    "last_fm_predict_mood.write.parquet(\"s3a://msds694-final-group7/lastfm_train_for_sentiment_clean_All\")"
   ]
  },
  {
   "cell_type": "code",
   "execution_count": 53,
   "metadata": {},
   "outputs": [
    {
     "data": {
      "application/vnd.jupyter.widget-view+json": {
       "model_id": "c1a6851340954dad9c6acbe37912aad0",
       "version_major": 2,
       "version_minor": 0
      },
      "text/plain": [
       "VBox()"
      ]
     },
     "metadata": {},
     "output_type": "display_data"
    },
    {
     "data": {
      "application/vnd.jupyter.widget-view+json": {
       "model_id": "",
       "version_major": 2,
       "version_minor": 0
      },
      "text/plain": [
       "FloatProgress(value=0.0, bar_style='info', description='Progress:', layout=Layout(height='25px', width='50%'),…"
      ]
     },
     "metadata": {},
     "output_type": "display_data"
    },
    {
     "name": "stdout",
     "output_type": "stream",
     "text": [
      "+--------+-----+-----+-----+-----+---------+---------+---------+---------+---------+---------+---------+---------+---------+----------+----+----+\n",
      "|Track_ID|Title|Tag_1|Tag_2|Tag_3|Similar_1|Similar_2|Similar_3|Similar_4|Similar_5|Similar_6|Similar_7|Similar_8|Similar_9|Similar_10|mood|year|\n",
      "+--------+-----+-----+-----+-----+---------+---------+---------+---------+---------+---------+---------+---------+---------+----------+----+----+\n",
      "+--------+-----+-----+-----+-----+---------+---------+---------+---------+---------+---------+---------+---------+---------+----------+----+----+"
     ]
    }
   ],
   "source": [
    "last_fm_predict_mood_test = test.join(mood_song, test['Track_ID'] == mood_song['Track_ID_file'])\n",
    "last_fm_predict_mood_test = last_fm_predict_mood_test.drop(\"Track_ID_file\", \"artist\", \"lyrics\", \"file\", \"title_song\")\n",
    "last_fm_predict_mood_test.show()"
   ]
  },
  {
   "cell_type": "code",
   "execution_count": 58,
   "metadata": {},
   "outputs": [
    {
     "data": {
      "application/vnd.jupyter.widget-view+json": {
       "model_id": "bc7a2832a164459a98816962818bf845",
       "version_major": 2,
       "version_minor": 0
      },
      "text/plain": [
       "VBox()"
      ]
     },
     "metadata": {},
     "output_type": "display_data"
    },
    {
     "data": {
      "application/vnd.jupyter.widget-view+json": {
       "model_id": "",
       "version_major": 2,
       "version_minor": 0
      },
      "text/plain": [
       "FloatProgress(value=0.0, bar_style='info', description='Progress:', layout=Layout(height='25px', width='50%'),…"
      ]
     },
     "metadata": {},
     "output_type": "display_data"
    },
    {
     "name": "stdout",
     "output_type": "stream",
     "text": [
      "+------------------+\n",
      "|     Track_ID_file|\n",
      "+------------------+\n",
      "|TRAAAAW128F429D538|\n",
      "|TRAAAEF128F4273421|\n",
      "|TRAAAFD128F92F423A|\n",
      "|TRAABJV128F1460C49|\n",
      "|TRAABLR128F423B7E3|\n",
      "|TRAABVM128F92CA9DC|\n",
      "|TRAACER128F4290F96|\n",
      "|TRAACFV128F935E50B|\n",
      "|TRAACHN128F1489601|\n",
      "|TRAACNS128F14A2DF5|\n",
      "|TRAACQT128F9331780|\n",
      "|TRAACTB12903CAAF15|\n",
      "|TRAADLN128F14832E9|\n",
      "|TRAADNA128F9331246|\n",
      "|TRAADQX128F422B4CF|\n",
      "|TRAADYB128F92D7E73|\n",
      "|TRAADYI128E078FB38|\n",
      "|TRAAEAM128F934B199|\n",
      "|TRAAEEH128E0795DFE|\n",
      "|TRAAEUB12903CDD3EA|\n",
      "+------------------+\n",
      "only showing top 20 rows"
     ]
    }
   ],
   "source": [
    "mood_song.select(['Track_ID_file']).show()"
   ]
  },
  {
   "cell_type": "markdown",
   "metadata": {},
   "source": [
    "## User Data"
   ]
  },
  {
   "cell_type": "markdown",
   "metadata": {},
   "source": [
    "Tried to bring in user data but it doesn't map to tracks in the last.fm dataset"
   ]
  },
  {
   "cell_type": "code",
   "execution_count": 7,
   "metadata": {},
   "outputs": [
    {
     "data": {
      "application/vnd.jupyter.widget-view+json": {
       "model_id": "4e1dea3631db4cba9e4fdbe22d90bfd0",
       "version_major": 2,
       "version_minor": 0
      },
      "text/plain": [
       "VBox()"
      ]
     },
     "metadata": {},
     "output_type": "display_data"
    },
    {
     "data": {
      "application/vnd.jupyter.widget-view+json": {
       "model_id": "",
       "version_major": 2,
       "version_minor": 0
      },
      "text/plain": [
       "FloatProgress(value=0.0, bar_style='info', description='Progress:', layout=Layout(height='25px', width='50%'),…"
      ]
     },
     "metadata": {},
     "output_type": "display_data"
    },
    {
     "name": "stdout",
     "output_type": "stream",
     "text": [
      "+----------------------------------------+------------------+----------+\n",
      "|user                                    |track_id          |play_count|\n",
      "+----------------------------------------+------------------+----------+\n",
      "|b80344d063b5ccb3212f76538f3d9e43d87dca9e|SOAKIMP12A8C130995|1         |\n",
      "|b80344d063b5ccb3212f76538f3d9e43d87dca9e|SOAPDEY12A81C210A9|1         |\n",
      "|b80344d063b5ccb3212f76538f3d9e43d87dca9e|SOBBMDR12A8C13253B|2         |\n",
      "|b80344d063b5ccb3212f76538f3d9e43d87dca9e|SOBFNSP12AF72A0E22|1         |\n",
      "|b80344d063b5ccb3212f76538f3d9e43d87dca9e|SOBFOVM12A58A7D494|1         |\n",
      "|b80344d063b5ccb3212f76538f3d9e43d87dca9e|SOBNZDC12A6D4FC103|1         |\n",
      "|b80344d063b5ccb3212f76538f3d9e43d87dca9e|SOBSUJE12A6D4F8CF5|2         |\n",
      "|b80344d063b5ccb3212f76538f3d9e43d87dca9e|SOBVFZR12A6D4F8AE3|1         |\n",
      "|b80344d063b5ccb3212f76538f3d9e43d87dca9e|SOBXALG12A8C13C108|1         |\n",
      "|b80344d063b5ccb3212f76538f3d9e43d87dca9e|SOBXHDL12A81C204C0|1         |\n",
      "|b80344d063b5ccb3212f76538f3d9e43d87dca9e|SOBYHAJ12A6701BF1D|1         |\n",
      "|b80344d063b5ccb3212f76538f3d9e43d87dca9e|SOCNMUH12A6D4F6E6D|1         |\n",
      "|b80344d063b5ccb3212f76538f3d9e43d87dca9e|SODACBL12A8C13C273|1         |\n",
      "|b80344d063b5ccb3212f76538f3d9e43d87dca9e|SODDNQT12A6D4F5F7E|5         |\n",
      "|b80344d063b5ccb3212f76538f3d9e43d87dca9e|SODXRTY12AB0180F3B|1         |\n",
      "|b80344d063b5ccb3212f76538f3d9e43d87dca9e|SODZWFT12A8C13C0E4|1         |\n",
      "|b80344d063b5ccb3212f76538f3d9e43d87dca9e|SOEGVZY12A58A7857E|1         |\n",
      "|b80344d063b5ccb3212f76538f3d9e43d87dca9e|SOEKWEA12A6D4F5DC3|1         |\n",
      "|b80344d063b5ccb3212f76538f3d9e43d87dca9e|SOEOBYG12A6D4F8AE2|1         |\n",
      "|b80344d063b5ccb3212f76538f3d9e43d87dca9e|SOEWFWM12A8C1308BA|1         |\n",
      "+----------------------------------------+------------------+----------+\n",
      "only showing top 20 rows"
     ]
    }
   ],
   "source": [
    "user_rdd = sc.textFile(\"s3://msds694-final-group7/train_triplets.txt\")\n",
    "user_rdd = user_rdd.map(lambda x: x.split('\\t')).map(lambda x: (str(x[0]), str(x[1]), int(x[2])))\n",
    "schema = StructType([\n",
    "    StructField('user', StringType(), True), \n",
    "    StructField('track_id', StringType(), True), \n",
    "    StructField('play_count', IntegerType(), True), \n",
    "])\n",
    "user_df = ss.createDataFrame(user_rdd, schema)\n",
    "user_df.show(truncate=False)"
   ]
  },
  {
   "cell_type": "code",
   "execution_count": 96,
   "metadata": {},
   "outputs": [
    {
     "data": {
      "application/vnd.jupyter.widget-view+json": {
       "model_id": "2a0ca4d5e1e84c0196da84a62a53a447",
       "version_major": 2,
       "version_minor": 0
      },
      "text/plain": [
       "VBox()"
      ]
     },
     "metadata": {},
     "output_type": "display_data"
    },
    {
     "data": {
      "application/vnd.jupyter.widget-view+json": {
       "model_id": "",
       "version_major": 2,
       "version_minor": 0
      },
      "text/plain": [
       "FloatProgress(value=0.0, bar_style='info', description='Progress:', layout=Layout(height='25px', width='50%'),…"
      ]
     },
     "metadata": {},
     "output_type": "display_data"
    },
    {
     "name": "stdout",
     "output_type": "stream",
     "text": [
      "'HI'"
     ]
    }
   ],
   "source": [
    "s = \"<HI>\"\n",
    "s.split(\"<\")[1].split(\">\")[0]"
   ]
  },
  {
   "cell_type": "code",
   "execution_count": 8,
   "metadata": {},
   "outputs": [
    {
     "data": {
      "application/vnd.jupyter.widget-view+json": {
       "model_id": "a4b9d85054e14a26ac07d815db4151d9",
       "version_major": 2,
       "version_minor": 0
      },
      "text/plain": [
       "VBox()"
      ]
     },
     "metadata": {},
     "output_type": "display_data"
    },
    {
     "data": {
      "application/vnd.jupyter.widget-view+json": {
       "model_id": "",
       "version_major": 2,
       "version_minor": 0
      },
      "text/plain": [
       "FloatProgress(value=0.0, bar_style='info', description='Progress:', layout=Layout(height='25px', width='50%'),…"
      ]
     },
     "metadata": {},
     "output_type": "display_data"
    },
    {
     "name": "stdout",
     "output_type": "stream",
     "text": [
      "DataFrame[_c0: string]"
     ]
    }
   ],
   "source": [
    "# Get pairs of song to track_id\n",
    "song_track_id = ss.read.csv('s3://msds694-final-group7/sid_mismatches.txt', header=False)\n",
    "song_track_id"
   ]
  },
  {
   "cell_type": "code",
   "execution_count": 16,
   "metadata": {},
   "outputs": [
    {
     "data": {
      "application/vnd.jupyter.widget-view+json": {
       "model_id": "4f9260a93e844963b21ed998ec821431",
       "version_major": 2,
       "version_minor": 0
      },
      "text/plain": [
       "VBox()"
      ]
     },
     "metadata": {},
     "output_type": "display_data"
    },
    {
     "data": {
      "application/vnd.jupyter.widget-view+json": {
       "model_id": "",
       "version_major": 2,
       "version_minor": 0
      },
      "text/plain": [
       "FloatProgress(value=0.0, bar_style='info', description='Progress:', layout=Layout(height='25px', width='50%'),…"
      ]
     },
     "metadata": {},
     "output_type": "display_data"
    }
   ],
   "source": [
    "def divide_Str_first(x): \n",
    "    return x.split(\"<\")[1].split(\">\")[0].split(\" \")[0]\n",
    "def divide_Str_second(x): \n",
    "    return x.split(\"<\")[1].split(\">\")[0].split(\" \")[1]\n",
    "divide_1 = udf(divide_Str_first)\n",
    "divide_2 = udf(divide_Str_second)\n",
    "song_track_preprocess = song_track_id.withColumn(\"song_id\", divide_1(\"_c0\"))\\\n",
    "                                    .withColumn(\"track_id_1\", divide_2(\"_c0\"))\\\n",
    "                                    .select([\"song_id\", \"track_id_1\"])"
   ]
  },
  {
   "cell_type": "code",
   "execution_count": 17,
   "metadata": {},
   "outputs": [
    {
     "data": {
      "application/vnd.jupyter.widget-view+json": {
       "model_id": "5857b76f25334189abd90e83e166b663",
       "version_major": 2,
       "version_minor": 0
      },
      "text/plain": [
       "VBox()"
      ]
     },
     "metadata": {},
     "output_type": "display_data"
    },
    {
     "data": {
      "application/vnd.jupyter.widget-view+json": {
       "model_id": "",
       "version_major": 2,
       "version_minor": 0
      },
      "text/plain": [
       "FloatProgress(value=0.0, bar_style='info', description='Progress:', layout=Layout(height='25px', width='50%'),…"
      ]
     },
     "metadata": {},
     "output_type": "display_data"
    },
    {
     "name": "stdout",
     "output_type": "stream",
     "text": [
      "+------------------+------------------+\n",
      "|song_id           |track_id_1        |\n",
      "+------------------+------------------+\n",
      "|SOUMNSI12AB0182807|TRMMGKQ128F9325E10|\n",
      "|SOCMRBE12AB018C546|TRMMREB12903CEB1B1|\n",
      "|SOLPHZY12AC468ABA8|TRMMBOC12903CEB46E|\n",
      "|SONGHTM12A8C1374EF|TRMMITP128F425D8D0|\n",
      "|SONGXCA12A8C13E82E|TRMMAYZ128F429ECE6|\n",
      "|SOMBCRC12A67ADA435|TRMMNVU128EF343EED|\n",
      "|SOTDWDK12A8C13617B|TRMMNCZ128F426FF0E|\n",
      "|SOEBURP12AB018C2FB|TRMMPBS12903CE90E1|\n",
      "|SOSRJHS12A6D4FDAA3|TRMWMEL128F421DA68|\n",
      "|SOIYAAQ12A6D4F954A|TRMWHRI128F147EA8E|\n",
      "|SOUQUOG12A6D4F5965|TRMWCQW128F147DE05|\n",
      "|SORRXFX12A8C141030|TRMWRQM128F92CCC1C|\n",
      "|SOBWQMY12AB018AEAD|TRMWBQO128F935220C|\n",
      "|SOCYTXQ12AB018E7C9|TRMWQBZ12903CC6AEF|\n",
      "|SOKMSQN12A6D4FA08E|TRMWQNL128F92C6A25|\n",
      "|SOFXDWK12A58A77B03|TRMWAQB128F428764C|\n",
      "|SOBPEIN12AB018113A|TRMWPYJ128F931C084|\n",
      "|SOANRSQ12A81C2147D|TRMWDXD128F42554E8|\n",
      "|SOVWUNG12A8C137891|TRMGMLW128F426A200|\n",
      "|SOOBZPE12AC468DFAF|TRMGWMD12903D03949|\n",
      "+------------------+------------------+\n",
      "only showing top 20 rows"
     ]
    }
   ],
   "source": [
    "song_track_preprocess.show(truncate=False)"
   ]
  },
  {
   "cell_type": "code",
   "execution_count": 19,
   "metadata": {},
   "outputs": [
    {
     "data": {
      "application/vnd.jupyter.widget-view+json": {
       "model_id": "b49ebddfec844890ac553de89fe68f3d",
       "version_major": 2,
       "version_minor": 0
      },
      "text/plain": [
       "VBox()"
      ]
     },
     "metadata": {},
     "output_type": "display_data"
    },
    {
     "data": {
      "application/vnd.jupyter.widget-view+json": {
       "model_id": "",
       "version_major": 2,
       "version_minor": 0
      },
      "text/plain": [
       "FloatProgress(value=0.0, bar_style='info', description='Progress:', layout=Layout(height='25px', width='50%'),…"
      ]
     },
     "metadata": {},
     "output_type": "display_data"
    }
   ],
   "source": [
    "song_to_track = user_df.join(song_track_preprocess, user_df['Track_ID'] == song_track_preprocess['song_id'])\n",
    "song_to_track = song_to_track.select(\"user\", \"track_id\", \"play_count\")"
   ]
  },
  {
   "cell_type": "markdown",
   "metadata": {},
   "source": [
    "Decide not to use this dataframe because there is no track_id that maps to the track_id from last.fm"
   ]
  },
  {
   "cell_type": "code",
   "execution_count": 21,
   "metadata": {},
   "outputs": [
    {
     "data": {
      "application/vnd.jupyter.widget-view+json": {
       "model_id": "4e890e8b0ff6416e96bd94416f533dcc",
       "version_major": 2,
       "version_minor": 0
      },
      "text/plain": [
       "VBox()"
      ]
     },
     "metadata": {},
     "output_type": "display_data"
    },
    {
     "data": {
      "application/vnd.jupyter.widget-view+json": {
       "model_id": "",
       "version_major": 2,
       "version_minor": 0
      },
      "text/plain": [
       "FloatProgress(value=0.0, bar_style='info', description='Progress:', layout=Layout(height='25px', width='50%'),…"
      ]
     },
     "metadata": {},
     "output_type": "display_data"
    },
    {
     "name": "stdout",
     "output_type": "stream",
     "text": [
      "+----+--------+----------+--------+-----+------+-----+-----+-----+---------+---------+---------+---------+---------+---------+---------+---------+---------+----------+\n",
      "|user|track_id|play_count|Track_ID|Title|Artist|Tag_1|Tag_2|Tag_3|Similar_1|Similar_2|Similar_3|Similar_4|Similar_5|Similar_6|Similar_7|Similar_8|Similar_9|Similar_10|\n",
      "+----+--------+----------+--------+-----+------+-----+-----+-----+---------+---------+---------+---------+---------+---------+---------+---------+---------+----------+\n",
      "+----+--------+----------+--------+-----+------+-----+-----+-----+---------+---------+---------+---------+---------+---------+---------+---------+---------+----------+"
     ]
    }
   ],
   "source": [
    "last_fm_play_counts = song_to_track.join(train, train['Track_ID'] == song_to_track['track_id'])\n",
    "last_fm_play_counts.show()"
   ]
  },
  {
   "cell_type": "code",
   "execution_count": null,
   "metadata": {},
   "outputs": [],
   "source": []
  }
 ],
 "metadata": {
  "kernelspec": {
   "display_name": "PySpark",
   "language": "",
   "name": "pysparkkernel"
  },
  "language_info": {
   "codemirror_mode": {
    "name": "python",
    "version": 2
   },
   "mimetype": "text/x-python",
   "name": "pyspark",
   "pygments_lexer": "python2"
  }
 },
 "nbformat": 4,
 "nbformat_minor": 4
}
