{
 "cells": [
  {
   "cell_type": "code",
   "execution_count": 1,
   "id": "introductory-glenn",
   "metadata": {},
   "outputs": [
    {
     "data": {
      "text/html": [
       "Current session configs: <tt>{'conf': {'spark.pyspark.python': 'python3', 'spark.pyspark.virtualenv.enabled': 'true', 'spark.pyspark.virtualenv.type': 'native', 'spark.pyspark.virtualenv.bin.path': '/usr/bin/virtualenv', 'spark.executor.heartbeatInterval': '10800s', 'spark.network.timeout': '24h', 'spark.driver.memory': '8G', 'spark.executor.memory': '8G', 'spark.executor.cores': '4', 'livy.server.session.timeout': '24h', 'spark.dynamicAllocation.enabled': 'false', 'spark.ext.h2o.fail.on.unsupported.spark.param': 'false', 'spark.app.name': 'msds694-group7'}, 'kind': 'pyspark'}</tt><br>"
      ],
      "text/plain": [
       "<IPython.core.display.HTML object>"
      ]
     },
     "metadata": {},
     "output_type": "display_data"
    },
    {
     "data": {
      "text/html": [
       "No active sessions."
      ],
      "text/plain": [
       "<IPython.core.display.HTML object>"
      ]
     },
     "metadata": {},
     "output_type": "display_data"
    }
   ],
   "source": [
    "%%configure -f \n",
    "{\n",
    "\"conf\":{\n",
    "        \"spark.pyspark.python\": \"python3\",\n",
    "        \"spark.pyspark.virtualenv.enabled\": \"true\",\n",
    "        \"spark.pyspark.virtualenv.type\":\"native\",\n",
    "        \"spark.pyspark.virtualenv.bin.path\":\"/usr/bin/virtualenv\",\n",
    "    \n",
    "        \"spark.executor.heartbeatInterval\":\"10800s\",\n",
    "        \"spark.network.timeout\":\"24h\",\n",
    "    \n",
    "        \"spark.driver.memory\": \"8G\",\n",
    "        \"spark.executor.memory\": \"8G\",\n",
    "        \"spark.executor.cores\":\"4\",\n",
    "    \n",
    "        \"livy.server.session.timeout\":\"24h\",\n",
    "    \n",
    "        \"spark.dynamicAllocation.enabled\":\"false\",\n",
    "        \"spark.ext.h2o.fail.on.unsupported.spark.param\":\"false\", \n",
    "    \n",
    "        \"spark.app.name\": \"msds694-group7\"\n",
    "      }\n",
    "}"
   ]
  },
  {
   "cell_type": "code",
   "execution_count": 2,
   "id": "brazilian-baseline",
   "metadata": {},
   "outputs": [
    {
     "data": {
      "application/vnd.jupyter.widget-view+json": {
       "model_id": "feb0f48284ec40eea30dfbe4cfe204fb",
       "version_major": 2,
       "version_minor": 0
      },
      "text/plain": [
       "VBox()"
      ]
     },
     "metadata": {},
     "output_type": "display_data"
    },
    {
     "name": "stdout",
     "output_type": "stream",
     "text": [
      "Starting Spark application\n"
     ]
    },
    {
     "data": {
      "text/html": [
       "<table>\n",
       "<tr><th>ID</th><th>YARN Application ID</th><th>Kind</th><th>State</th><th>Spark UI</th><th>Driver log</th><th>Current session?</th></tr><tr><td>21</td><td>application_1615435774710_0012</td><td>pyspark</td><td>idle</td><td><a target=\"_blank\" href=\"http://ip-172-31-9-92.us-west-1.compute.internal:20888/proxy/application_1615435774710_0012/\">Link</a></td><td><a target=\"_blank\" href=\"http://ip-172-31-8-182.us-west-1.compute.internal:8042/node/containerlogs/container_1615435774710_0012_01_000001/livy\">Link</a></td><td>✔</td></tr></table>"
      ],
      "text/plain": [
       "<IPython.core.display.HTML object>"
      ]
     },
     "metadata": {},
     "output_type": "display_data"
    },
    {
     "data": {
      "application/vnd.jupyter.widget-view+json": {
       "model_id": "",
       "version_major": 2,
       "version_minor": 0
      },
      "text/plain": [
       "FloatProgress(value=0.0, bar_style='info', description='Progress:', layout=Layout(height='25px', width='50%'),…"
      ]
     },
     "metadata": {},
     "output_type": "display_data"
    },
    {
     "name": "stdout",
     "output_type": "stream",
     "text": [
      "SparkSession available as 'spark'.\n"
     ]
    },
    {
     "data": {
      "application/vnd.jupyter.widget-view+json": {
       "model_id": "",
       "version_major": 2,
       "version_minor": 0
      },
      "text/plain": [
       "FloatProgress(value=0.0, bar_style='info', description='Progress:', layout=Layout(height='25px', width='50%'),…"
      ]
     },
     "metadata": {},
     "output_type": "display_data"
    }
   ],
   "source": [
    "from pyspark.sql import SparkSession\n",
    "from pyspark.sql import Window\n",
    "from pyspark.sql.types import *\n",
    "from pyspark.sql.functions import *\n",
    "from pyspark.ml.feature import StringIndexer\n",
    "from pyspark.ml.feature import OneHotEncoder\n",
    "from pyspark.ml.feature import StandardScaler\n",
    "from pyspark.ml.feature import VectorAssembler\n",
    "from pyspark.ml.classification import LogisticRegression\n",
    "from pyspark.ml.evaluation import BinaryClassificationEvaluator\n",
    "from pyspark.ml.tuning import CrossValidator\n",
    "from pyspark.ml.tuning import ParamGridBuilder\n",
    "import json\n",
    "\n",
    "from pyspark.sql import SparkSession\n",
    "from pyspark.sql.types import *\n",
    "from pyspark.sql import Row\n",
    "from pyspark.sql.functions import *\n",
    "\n",
    "ss = SparkSession.builder.getOrCreate()\n",
    "sc = ss.sparkContext"
   ]
  },
  {
   "cell_type": "code",
   "execution_count": 3,
   "id": "specified-rental",
   "metadata": {},
   "outputs": [
    {
     "data": {
      "text/html": [
       "Current session configs: <tt>{'conf': {'spark.pyspark.python': 'python3', 'spark.pyspark.virtualenv.enabled': 'true', 'spark.pyspark.virtualenv.type': 'native', 'spark.pyspark.virtualenv.bin.path': '/usr/bin/virtualenv', 'spark.executor.heartbeatInterval': '10800s', 'spark.network.timeout': '24h', 'spark.driver.memory': '8G', 'spark.executor.memory': '8G', 'spark.executor.cores': '4', 'livy.server.session.timeout': '24h', 'spark.dynamicAllocation.enabled': 'false', 'spark.ext.h2o.fail.on.unsupported.spark.param': 'false', 'spark.app.name': 'msds694-group7'}, 'kind': 'pyspark'}</tt><br>"
      ],
      "text/plain": [
       "<IPython.core.display.HTML object>"
      ]
     },
     "metadata": {},
     "output_type": "display_data"
    },
    {
     "data": {
      "text/html": [
       "<table>\n",
       "<tr><th>ID</th><th>YARN Application ID</th><th>Kind</th><th>State</th><th>Spark UI</th><th>Driver log</th><th>Current session?</th></tr><tr><td>21</td><td>application_1615435774710_0012</td><td>pyspark</td><td>idle</td><td><a target=\"_blank\" href=\"http://ip-172-31-9-92.us-west-1.compute.internal:20888/proxy/application_1615435774710_0012/\">Link</a></td><td><a target=\"_blank\" href=\"http://ip-172-31-8-182.us-west-1.compute.internal:8042/node/containerlogs/container_1615435774710_0012_01_000001/livy\">Link</a></td><td>✔</td></tr></table>"
      ],
      "text/plain": [
       "<IPython.core.display.HTML object>"
      ]
     },
     "metadata": {},
     "output_type": "display_data"
    }
   ],
   "source": [
    "%%info\n"
   ]
  },
  {
   "cell_type": "code",
   "execution_count": null,
   "id": "decent-geneva",
   "metadata": {},
   "outputs": [],
   "source": []
  },
  {
   "cell_type": "code",
   "execution_count": 4,
   "id": "material-testing",
   "metadata": {},
   "outputs": [
    {
     "data": {
      "application/vnd.jupyter.widget-view+json": {
       "model_id": "b34d52ea9e084c87bfc444ea5e5a0bd0",
       "version_major": 2,
       "version_minor": 0
      },
      "text/plain": [
       "VBox()"
      ]
     },
     "metadata": {},
     "output_type": "display_data"
    },
    {
     "data": {
      "application/vnd.jupyter.widget-view+json": {
       "model_id": "",
       "version_major": 2,
       "version_minor": 0
      },
      "text/plain": [
       "FloatProgress(value=0.0, bar_style='info', description='Progress:', layout=Layout(height='25px', width='50%'),…"
      ]
     },
     "metadata": {},
     "output_type": "display_data"
    }
   ],
   "source": [
    "train_path = \"s3://msds694-final-group7/lastfm_train_for_genre_clean/All_with_genre/\"\n",
    "#test_path = \"s3://msds694-final-group7/lastfm_test_for_genre_clean/All_with_genre/\""
   ]
  },
  {
   "cell_type": "code",
   "execution_count": 5,
   "id": "committed-keyboard",
   "metadata": {},
   "outputs": [
    {
     "data": {
      "application/vnd.jupyter.widget-view+json": {
       "model_id": "a5a958acf5a94c628450a337fa9c489a",
       "version_major": 2,
       "version_minor": 0
      },
      "text/plain": [
       "VBox()"
      ]
     },
     "metadata": {},
     "output_type": "display_data"
    },
    {
     "data": {
      "application/vnd.jupyter.widget-view+json": {
       "model_id": "",
       "version_major": 2,
       "version_minor": 0
      },
      "text/plain": [
       "FloatProgress(value=0.0, bar_style='info', description='Progress:', layout=Layout(height='25px', width='50%'),…"
      ]
     },
     "metadata": {},
     "output_type": "display_data"
    }
   ],
   "source": [
    "lastfm_train_genre = ss.read.parquet(train_path).cache()\n",
    "#lastfm_test_genre = ss.read.parquet(test_path).cache()"
   ]
  },
  {
   "cell_type": "code",
   "execution_count": 6,
   "id": "affiliated-prescription",
   "metadata": {},
   "outputs": [
    {
     "data": {
      "application/vnd.jupyter.widget-view+json": {
       "model_id": "efa8fd0bb7b2407c8800689e3b79d4f8",
       "version_major": 2,
       "version_minor": 0
      },
      "text/plain": [
       "VBox()"
      ]
     },
     "metadata": {},
     "output_type": "display_data"
    },
    {
     "data": {
      "application/vnd.jupyter.widget-view+json": {
       "model_id": "",
       "version_major": 2,
       "version_minor": 0
      },
      "text/plain": [
       "FloatProgress(value=0.0, bar_style='info', description='Progress:', layout=Layout(height='25px', width='50%'),…"
      ]
     },
     "metadata": {},
     "output_type": "display_data"
    },
    {
     "name": "stdout",
     "output_type": "stream",
     "text": [
      "root\n",
      " |-- Track_ID: string (nullable = true)\n",
      " |-- Title: string (nullable = true)\n",
      " |-- Artist: string (nullable = true)\n",
      " |-- Tag_1: string (nullable = true)\n",
      " |-- Tag_2: string (nullable = true)\n",
      " |-- Tag_3: string (nullable = true)\n",
      " |-- Similar_1: string (nullable = true)\n",
      " |-- Similar_2: string (nullable = true)\n",
      " |-- Similar_3: string (nullable = true)\n",
      " |-- Similar_4: string (nullable = true)\n",
      " |-- Similar_5: string (nullable = true)\n",
      " |-- Similar_6: string (nullable = true)\n",
      " |-- Similar_7: string (nullable = true)\n",
      " |-- Similar_8: string (nullable = true)\n",
      " |-- Similar_9: string (nullable = true)\n",
      " |-- Similar_10: string (nullable = true)\n",
      " |-- genre: string (nullable = true)"
     ]
    }
   ],
   "source": [
    "lastfm_train_genre.printSchema()"
   ]
  },
  {
   "cell_type": "code",
   "execution_count": 7,
   "id": "included-horizontal",
   "metadata": {},
   "outputs": [
    {
     "data": {
      "application/vnd.jupyter.widget-view+json": {
       "model_id": "567147fbd0094782ab6012f5a5c29bee",
       "version_major": 2,
       "version_minor": 0
      },
      "text/plain": [
       "VBox()"
      ]
     },
     "metadata": {},
     "output_type": "display_data"
    },
    {
     "data": {
      "application/vnd.jupyter.widget-view+json": {
       "model_id": "",
       "version_major": 2,
       "version_minor": 0
      },
      "text/plain": [
       "FloatProgress(value=0.0, bar_style='info', description='Progress:', layout=Layout(height='25px', width='50%'),…"
      ]
     },
     "metadata": {},
     "output_type": "display_data"
    }
   ],
   "source": [
    "def indexStringColumns(df, cols):\n",
    "    \"\"\"\n",
    "    cols --> columns to convert from string to numeric values\n",
    "    \"\"\"\n",
    "    #variable newdf will be updated several times\n",
    "    newdf = df\n",
    "    \n",
    "    for c in cols:\n",
    "        #For each given colum, fits StringIndexerModel.\n",
    "        si = StringIndexer(inputCol=c, outputCol=c+\"-num\")\n",
    "        sm = si.fit(newdf)\n",
    "        #Creates a DataFame by putting the transformed values in the new colum with suffix \"-num\" \n",
    "        #and then drops the original columns.\n",
    "        #and drop the \"-num\" suffix. \n",
    "        newdf = sm.transform(newdf).drop(c)\n",
    "        newdf = newdf.withColumnRenamed(c+\"-num\", c)\n",
    "    return newdf\n",
    "\n",
    "dfnumeric = indexStringColumns(lastfm_train_genre,\n",
    "                                         [\"Title\", \"Artist\", \"Tag_1\", \"Tag_2\", \"Tag_3\", \n",
    "                                                   \"Similar_1\", \"Similar_2\", \"Similar_3\", \"Similar_4\", \n",
    "                                                   \"Similar_5\", \"Similar_6\", \"Similar_7\", \"Similar_8\", \n",
    "                                                   \"Similar_9\", \"Similar_10\", \"genre\"])"
   ]
  },
  {
   "cell_type": "code",
   "execution_count": 8,
   "id": "genuine-occasions",
   "metadata": {},
   "outputs": [
    {
     "data": {
      "application/vnd.jupyter.widget-view+json": {
       "model_id": "fd69704a80c14e1f818cb0d4456e7f66",
       "version_major": 2,
       "version_minor": 0
      },
      "text/plain": [
       "VBox()"
      ]
     },
     "metadata": {},
     "output_type": "display_data"
    },
    {
     "data": {
      "application/vnd.jupyter.widget-view+json": {
       "model_id": "",
       "version_major": 2,
       "version_minor": 0
      },
      "text/plain": [
       "FloatProgress(value=0.0, bar_style='info', description='Progress:', layout=Layout(height='25px', width='50%'),…"
      ]
     },
     "metadata": {},
     "output_type": "display_data"
    }
   ],
   "source": [
    "def oneHotEncodeColumns(df, cols):\n",
    "    newdf = df\n",
    "    for c in cols:\n",
    "        ohe = OneHotEncoder(inputCol=c, outputCol=c+\"-onehot\", dropLast=False)\n",
    "\n",
    "        newdf = ohe.transform(newdf).drop(c)\n",
    "        newdf = newdf.withColumnRenamed(c+\"-onehot\", c)\n",
    "    return newdf\n",
    "\n",
    "dfhot = oneHotEncodeColumns(dfnumeric,\n",
    "                                              [\"Title\", \"Artist\", \"Tag_1\", \"Tag_2\", \"Tag_3\", \n",
    "                                                   \"Similar_1\", \"Similar_2\", \"Similar_3\", \"Similar_4\", \n",
    "                                                   \"Similar_5\", \"Similar_6\", \"Similar_7\", \"Similar_8\", \n",
    "                                                   \"Similar_9\", \"Similar_10\"]) "
   ]
  },
  {
   "cell_type": "code",
   "execution_count": 10,
   "id": "hydraulic-excitement",
   "metadata": {},
   "outputs": [
    {
     "data": {
      "application/vnd.jupyter.widget-view+json": {
       "model_id": "79c8268648214de1aabb4298f11b908e",
       "version_major": 2,
       "version_minor": 0
      },
      "text/plain": [
       "VBox()"
      ]
     },
     "metadata": {},
     "output_type": "display_data"
    },
    {
     "data": {
      "application/vnd.jupyter.widget-view+json": {
       "model_id": "",
       "version_major": 2,
       "version_minor": 0
      },
      "text/plain": [
       "FloatProgress(value=0.0, bar_style='info', description='Progress:', layout=Layout(height='25px', width='50%'),…"
      ]
     },
     "metadata": {},
     "output_type": "display_data"
    }
   ],
   "source": [
    "input_cols = [\"Title\", \"Artist\", \"Tag_1\", \"Tag_2\", \"Tag_3\", \n",
    "              \"Similar_1\", \"Similar_2\", \"Similar_3\", \"Similar_4\", \n",
    "              \"Similar_5\", \"Similar_6\", \"Similar_7\", \"Similar_8\", \n",
    "              \"Similar_9\", \"Similar_10\"]\n",
    "va = VectorAssembler(outputCol=\"features\", inputCols=input_cols)\n",
    "#lpoints - labeled data.\n",
    "lpoints = va.transform(dfhot).select(\"features\", \"genre\").withColumnRenamed(\"genre\", \"label\")"
   ]
  },
  {
   "cell_type": "code",
   "execution_count": 11,
   "id": "aquatic-terry",
   "metadata": {},
   "outputs": [
    {
     "data": {
      "application/vnd.jupyter.widget-view+json": {
       "model_id": "ebff8b4d79564650a9359b459d315213",
       "version_major": 2,
       "version_minor": 0
      },
      "text/plain": [
       "VBox()"
      ]
     },
     "metadata": {},
     "output_type": "display_data"
    },
    {
     "data": {
      "application/vnd.jupyter.widget-view+json": {
       "model_id": "",
       "version_major": 2,
       "version_minor": 0
      },
      "text/plain": [
       "FloatProgress(value=0.0, bar_style='info', description='Progress:', layout=Layout(height='25px', width='50%'),…"
      ]
     },
     "metadata": {},
     "output_type": "display_data"
    }
   ],
   "source": [
    "#Divide the dataset into training and vaildation sets.\n",
    "splits = lpoints.randomSplit([0.7, 0.3])\n",
    "\n",
    "#cache() : the algorithm is interative and training and data sets are going to be reused many times.\n",
    "last_fm_genre_train = splits[0].cache()\n",
    "last_fm_genre_test = splits[1].cache()"
   ]
  },
  {
   "cell_type": "code",
   "execution_count": 14,
   "id": "about-buddy",
   "metadata": {},
   "outputs": [
    {
     "data": {
      "application/vnd.jupyter.widget-view+json": {
       "model_id": "d7a22f5650384b40b10dc2e54eb08b84",
       "version_major": 2,
       "version_minor": 0
      },
      "text/plain": [
       "VBox()"
      ]
     },
     "metadata": {},
     "output_type": "display_data"
    },
    {
     "data": {
      "application/vnd.jupyter.widget-view+json": {
       "model_id": "",
       "version_major": 2,
       "version_minor": 0
      },
      "text/plain": [
       "FloatProgress(value=0.0, bar_style='info', description='Progress:', layout=Layout(height='25px', width='50%'),…"
      ]
     },
     "metadata": {},
     "output_type": "display_data"
    }
   ],
   "source": [
    "lr = LogisticRegression(regParam=0.3, maxIter=100, fitIntercept=True)\n",
    "lrmodel = lr.fit(last_fm_genre_train)"
   ]
  },
  {
   "cell_type": "code",
   "execution_count": 18,
   "id": "governmental-symposium",
   "metadata": {},
   "outputs": [
    {
     "data": {
      "application/vnd.jupyter.widget-view+json": {
       "model_id": "c27cbd650730451794118dac8b27d9a4",
       "version_major": 2,
       "version_minor": 0
      },
      "text/plain": [
       "VBox()"
      ]
     },
     "metadata": {},
     "output_type": "display_data"
    },
    {
     "data": {
      "application/vnd.jupyter.widget-view+json": {
       "model_id": "",
       "version_major": 2,
       "version_minor": 0
      },
      "text/plain": [
       "FloatProgress(value=0.0, bar_style='info', description='Progress:', layout=Layout(height='25px', width='50%'),…"
      ]
     },
     "metadata": {},
     "output_type": "display_data"
    }
   ],
   "source": [
    "test_predicts = lrmodel.transform(last_fm_genre_test)"
   ]
  },
  {
   "cell_type": "code",
   "execution_count": 20,
   "id": "another-tsunami",
   "metadata": {},
   "outputs": [
    {
     "data": {
      "application/vnd.jupyter.widget-view+json": {
       "model_id": "396d4ecbd2c346db89e17c88af04b643",
       "version_major": 2,
       "version_minor": 0
      },
      "text/plain": [
       "VBox()"
      ]
     },
     "metadata": {},
     "output_type": "display_data"
    },
    {
     "data": {
      "application/vnd.jupyter.widget-view+json": {
       "model_id": "",
       "version_major": 2,
       "version_minor": 0
      },
      "text/plain": [
       "FloatProgress(value=0.0, bar_style='info', description='Progress:', layout=Layout(height='25px', width='50%'),…"
      ]
     },
     "metadata": {},
     "output_type": "display_data"
    },
    {
     "name": "stdout",
     "output_type": "stream",
     "text": [
      "0.5931902436506449"
     ]
    }
   ],
   "source": [
    "from pyspark.ml.evaluation import MulticlassClassificationEvaluator\n",
    "evaluator = MulticlassClassificationEvaluator().setMetricName(\"f1\")\n",
    "evaluator.evaluate(test_predicts)"
   ]
  },
  {
   "cell_type": "markdown",
   "id": "baking-person",
   "metadata": {},
   "source": [
    "It is picking only about 60% of the genres correctly given tags and similarities. Therefore, its not a great feature space to predict genre. "
   ]
  }
 ],
 "metadata": {
  "kernelspec": {
   "display_name": "PySpark",
   "language": "",
   "name": "pysparkkernel"
  },
  "language_info": {
   "codemirror_mode": {
    "name": "python",
    "version": 2
   },
   "mimetype": "text/x-python",
   "name": "pyspark",
   "pygments_lexer": "python2"
  }
 },
 "nbformat": 4,
 "nbformat_minor": 5
}
